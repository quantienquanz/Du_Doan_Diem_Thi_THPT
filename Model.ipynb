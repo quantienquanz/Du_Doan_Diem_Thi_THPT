{
 "cells": [
  {
   "cell_type": "code",
   "execution_count": 1,
   "id": "c1728098",
   "metadata": {},
   "outputs": [],
   "source": [
    "import pandas as pd\n",
    "import numpy as np\n",
    "from sklearn.linear_model import LinearRegression\n",
    "import matplotlib.pyplot as plt"
   ]
  },
  {
   "cell_type": "markdown",
   "id": "0c94127f",
   "metadata": {},
   "source": [
    "# Lọc dữ liệu điểm chuẩn "
   ]
  },
  {
   "cell_type": "code",
   "execution_count": 2,
   "id": "3394a65b",
   "metadata": {},
   "outputs": [],
   "source": [
    "diemchuan = pd.read_csv('final_data.csv')"
   ]
  },
  {
   "cell_type": "code",
   "execution_count": 3,
   "id": "8ec6b26e",
   "metadata": {
    "scrolled": true
   },
   "outputs": [
    {
     "data": {
      "text/html": [
       "<div>\n",
       "<style scoped>\n",
       "    .dataframe tbody tr th:only-of-type {\n",
       "        vertical-align: middle;\n",
       "    }\n",
       "\n",
       "    .dataframe tbody tr th {\n",
       "        vertical-align: top;\n",
       "    }\n",
       "\n",
       "    .dataframe thead th {\n",
       "        text-align: right;\n",
       "    }\n",
       "</style>\n",
       "<table border=\"1\" class=\"dataframe\">\n",
       "  <thead>\n",
       "    <tr style=\"text-align: right;\">\n",
       "      <th></th>\n",
       "      <th>mã ngành</th>\n",
       "      <th>tên ngành</th>\n",
       "      <th>tổ hợp</th>\n",
       "      <th>điểm chuẩn</th>\n",
       "      <th>ghi chú</th>\n",
       "      <th>năm</th>\n",
       "      <th>mã trường</th>\n",
       "      <th>tên trường</th>\n",
       "      <th>url</th>\n",
       "    </tr>\n",
       "  </thead>\n",
       "  <tbody>\n",
       "    <tr>\n",
       "      <th>0</th>\n",
       "      <td>7720101</td>\n",
       "      <td>Y khoa</td>\n",
       "      <td>A02</td>\n",
       "      <td>21</td>\n",
       "      <td>NaN</td>\n",
       "      <td>2019</td>\n",
       "      <td>BMU</td>\n",
       "      <td>Đại học Buôn Ma Thuột</td>\n",
       "      <td>https://diemthi.tuyensinh247.com/diem-chuan/da...</td>\n",
       "    </tr>\n",
       "    <tr>\n",
       "      <th>1</th>\n",
       "      <td>7720101</td>\n",
       "      <td>Y khoa</td>\n",
       "      <td>B00</td>\n",
       "      <td>21</td>\n",
       "      <td>NaN</td>\n",
       "      <td>2019</td>\n",
       "      <td>BMU</td>\n",
       "      <td>Đại học Buôn Ma Thuột</td>\n",
       "      <td>https://diemthi.tuyensinh247.com/diem-chuan/da...</td>\n",
       "    </tr>\n",
       "    <tr>\n",
       "      <th>2</th>\n",
       "      <td>7720101</td>\n",
       "      <td>Y khoa</td>\n",
       "      <td>D08</td>\n",
       "      <td>21</td>\n",
       "      <td>NaN</td>\n",
       "      <td>2019</td>\n",
       "      <td>BMU</td>\n",
       "      <td>Đại học Buôn Ma Thuột</td>\n",
       "      <td>https://diemthi.tuyensinh247.com/diem-chuan/da...</td>\n",
       "    </tr>\n",
       "    <tr>\n",
       "      <th>3</th>\n",
       "      <td>7720201</td>\n",
       "      <td>Dược học</td>\n",
       "      <td>A00</td>\n",
       "      <td>20</td>\n",
       "      <td>NaN</td>\n",
       "      <td>2019</td>\n",
       "      <td>BMU</td>\n",
       "      <td>Đại học Buôn Ma Thuột</td>\n",
       "      <td>https://diemthi.tuyensinh247.com/diem-chuan/da...</td>\n",
       "    </tr>\n",
       "    <tr>\n",
       "      <th>4</th>\n",
       "      <td>7720201</td>\n",
       "      <td>Dược học</td>\n",
       "      <td>B00</td>\n",
       "      <td>20</td>\n",
       "      <td>NaN</td>\n",
       "      <td>2019</td>\n",
       "      <td>BMU</td>\n",
       "      <td>Đại học Buôn Ma Thuột</td>\n",
       "      <td>https://diemthi.tuyensinh247.com/diem-chuan/da...</td>\n",
       "    </tr>\n",
       "  </tbody>\n",
       "</table>\n",
       "</div>"
      ],
      "text/plain": [
       "  mã ngành tên ngành tổ hợp điểm chuẩn ghi chú   năm mã trường  \\\n",
       "0  7720101    Y khoa    A02         21     NaN  2019       BMU   \n",
       "1  7720101    Y khoa    B00         21     NaN  2019       BMU   \n",
       "2  7720101    Y khoa    D08         21     NaN  2019       BMU   \n",
       "3  7720201  Dược học    A00         20     NaN  2019       BMU   \n",
       "4  7720201  Dược học    B00         20     NaN  2019       BMU   \n",
       "\n",
       "              tên trường                                                url  \n",
       "0  Đại học Buôn Ma Thuột  https://diemthi.tuyensinh247.com/diem-chuan/da...  \n",
       "1  Đại học Buôn Ma Thuột  https://diemthi.tuyensinh247.com/diem-chuan/da...  \n",
       "2  Đại học Buôn Ma Thuột  https://diemthi.tuyensinh247.com/diem-chuan/da...  \n",
       "3  Đại học Buôn Ma Thuột  https://diemthi.tuyensinh247.com/diem-chuan/da...  \n",
       "4  Đại học Buôn Ma Thuột  https://diemthi.tuyensinh247.com/diem-chuan/da...  "
      ]
     },
     "execution_count": 3,
     "metadata": {},
     "output_type": "execute_result"
    }
   ],
   "source": [
    "diemchuan.head(5)"
   ]
  },
  {
   "cell_type": "code",
   "execution_count": 4,
   "id": "166b437d",
   "metadata": {},
   "outputs": [],
   "source": [
    "diemchuan.columns = ['manganh','tennganh','tohop','diemchuan','ghichu','nam','matruong','tentruong','url']"
   ]
  },
  {
   "cell_type": "code",
   "execution_count": 5,
   "id": "291edd01",
   "metadata": {},
   "outputs": [
    {
     "data": {
      "text/html": [
       "<div>\n",
       "<style scoped>\n",
       "    .dataframe tbody tr th:only-of-type {\n",
       "        vertical-align: middle;\n",
       "    }\n",
       "\n",
       "    .dataframe tbody tr th {\n",
       "        vertical-align: top;\n",
       "    }\n",
       "\n",
       "    .dataframe thead th {\n",
       "        text-align: right;\n",
       "    }\n",
       "</style>\n",
       "<table border=\"1\" class=\"dataframe\">\n",
       "  <thead>\n",
       "    <tr style=\"text-align: right;\">\n",
       "      <th></th>\n",
       "      <th>manganh</th>\n",
       "      <th>tennganh</th>\n",
       "      <th>tohop</th>\n",
       "      <th>diemchuan</th>\n",
       "      <th>ghichu</th>\n",
       "      <th>nam</th>\n",
       "      <th>matruong</th>\n",
       "      <th>tentruong</th>\n",
       "      <th>url</th>\n",
       "    </tr>\n",
       "  </thead>\n",
       "  <tbody>\n",
       "    <tr>\n",
       "      <th>0</th>\n",
       "      <td>7720101</td>\n",
       "      <td>Y khoa</td>\n",
       "      <td>A02</td>\n",
       "      <td>21</td>\n",
       "      <td>NaN</td>\n",
       "      <td>2019</td>\n",
       "      <td>BMU</td>\n",
       "      <td>Đại học Buôn Ma Thuột</td>\n",
       "      <td>https://diemthi.tuyensinh247.com/diem-chuan/da...</td>\n",
       "    </tr>\n",
       "    <tr>\n",
       "      <th>1</th>\n",
       "      <td>7720101</td>\n",
       "      <td>Y khoa</td>\n",
       "      <td>B00</td>\n",
       "      <td>21</td>\n",
       "      <td>NaN</td>\n",
       "      <td>2019</td>\n",
       "      <td>BMU</td>\n",
       "      <td>Đại học Buôn Ma Thuột</td>\n",
       "      <td>https://diemthi.tuyensinh247.com/diem-chuan/da...</td>\n",
       "    </tr>\n",
       "    <tr>\n",
       "      <th>2</th>\n",
       "      <td>7720101</td>\n",
       "      <td>Y khoa</td>\n",
       "      <td>D08</td>\n",
       "      <td>21</td>\n",
       "      <td>NaN</td>\n",
       "      <td>2019</td>\n",
       "      <td>BMU</td>\n",
       "      <td>Đại học Buôn Ma Thuột</td>\n",
       "      <td>https://diemthi.tuyensinh247.com/diem-chuan/da...</td>\n",
       "    </tr>\n",
       "    <tr>\n",
       "      <th>3</th>\n",
       "      <td>7720201</td>\n",
       "      <td>Dược học</td>\n",
       "      <td>A00</td>\n",
       "      <td>20</td>\n",
       "      <td>NaN</td>\n",
       "      <td>2019</td>\n",
       "      <td>BMU</td>\n",
       "      <td>Đại học Buôn Ma Thuột</td>\n",
       "      <td>https://diemthi.tuyensinh247.com/diem-chuan/da...</td>\n",
       "    </tr>\n",
       "    <tr>\n",
       "      <th>4</th>\n",
       "      <td>7720201</td>\n",
       "      <td>Dược học</td>\n",
       "      <td>B00</td>\n",
       "      <td>20</td>\n",
       "      <td>NaN</td>\n",
       "      <td>2019</td>\n",
       "      <td>BMU</td>\n",
       "      <td>Đại học Buôn Ma Thuột</td>\n",
       "      <td>https://diemthi.tuyensinh247.com/diem-chuan/da...</td>\n",
       "    </tr>\n",
       "  </tbody>\n",
       "</table>\n",
       "</div>"
      ],
      "text/plain": [
       "   manganh  tennganh tohop diemchuan ghichu   nam matruong  \\\n",
       "0  7720101    Y khoa   A02        21    NaN  2019      BMU   \n",
       "1  7720101    Y khoa   B00        21    NaN  2019      BMU   \n",
       "2  7720101    Y khoa   D08        21    NaN  2019      BMU   \n",
       "3  7720201  Dược học   A00        20    NaN  2019      BMU   \n",
       "4  7720201  Dược học   B00        20    NaN  2019      BMU   \n",
       "\n",
       "               tentruong                                                url  \n",
       "0  Đại học Buôn Ma Thuột  https://diemthi.tuyensinh247.com/diem-chuan/da...  \n",
       "1  Đại học Buôn Ma Thuột  https://diemthi.tuyensinh247.com/diem-chuan/da...  \n",
       "2  Đại học Buôn Ma Thuột  https://diemthi.tuyensinh247.com/diem-chuan/da...  \n",
       "3  Đại học Buôn Ma Thuột  https://diemthi.tuyensinh247.com/diem-chuan/da...  \n",
       "4  Đại học Buôn Ma Thuột  https://diemthi.tuyensinh247.com/diem-chuan/da...  "
      ]
     },
     "execution_count": 5,
     "metadata": {},
     "output_type": "execute_result"
    }
   ],
   "source": [
    "diemchuan.head(5)"
   ]
  },
  {
   "cell_type": "code",
   "execution_count": 6,
   "id": "7a6350ba",
   "metadata": {
    "scrolled": false
   },
   "outputs": [
    {
     "data": {
      "text/html": [
       "<div>\n",
       "<style scoped>\n",
       "    .dataframe tbody tr th:only-of-type {\n",
       "        vertical-align: middle;\n",
       "    }\n",
       "\n",
       "    .dataframe tbody tr th {\n",
       "        vertical-align: top;\n",
       "    }\n",
       "\n",
       "    .dataframe thead th {\n",
       "        text-align: right;\n",
       "    }\n",
       "</style>\n",
       "<table border=\"1\" class=\"dataframe\">\n",
       "  <thead>\n",
       "    <tr style=\"text-align: right;\">\n",
       "      <th></th>\n",
       "      <th>manganh</th>\n",
       "      <th>tennganh</th>\n",
       "      <th>tohop</th>\n",
       "      <th>diemchuan</th>\n",
       "      <th>ghichu</th>\n",
       "      <th>nam</th>\n",
       "      <th>matruong</th>\n",
       "      <th>tentruong</th>\n",
       "      <th>url</th>\n",
       "    </tr>\n",
       "  </thead>\n",
       "  <tbody>\n",
       "    <tr>\n",
       "      <th>14768</th>\n",
       "      <td>7220201</td>\n",
       "      <td>Ngôn ngữ Anh</td>\n",
       "      <td>D01</td>\n",
       "      <td>19.8</td>\n",
       "      <td>NaN</td>\n",
       "      <td>2019</td>\n",
       "      <td>DTL</td>\n",
       "      <td>Đại Học Thăng Long</td>\n",
       "      <td>https://diemthi.tuyensinh247.com/diem-chuan/da...</td>\n",
       "    </tr>\n",
       "    <tr>\n",
       "      <th>14769</th>\n",
       "      <td>7220204</td>\n",
       "      <td>Ngôn ngữ Trung Quốc</td>\n",
       "      <td>D01</td>\n",
       "      <td>21.6</td>\n",
       "      <td>NaN</td>\n",
       "      <td>2019</td>\n",
       "      <td>DTL</td>\n",
       "      <td>Đại Học Thăng Long</td>\n",
       "      <td>https://diemthi.tuyensinh247.com/diem-chuan/da...</td>\n",
       "    </tr>\n",
       "    <tr>\n",
       "      <th>14770</th>\n",
       "      <td>7220204</td>\n",
       "      <td>Ngôn ngữ Trung Quốc</td>\n",
       "      <td>D04</td>\n",
       "      <td>21.6</td>\n",
       "      <td>NaN</td>\n",
       "      <td>2019</td>\n",
       "      <td>DTL</td>\n",
       "      <td>Đại Học Thăng Long</td>\n",
       "      <td>https://diemthi.tuyensinh247.com/diem-chuan/da...</td>\n",
       "    </tr>\n",
       "    <tr>\n",
       "      <th>14771</th>\n",
       "      <td>7220209</td>\n",
       "      <td>Ngôn ngữ Nhật</td>\n",
       "      <td>D01</td>\n",
       "      <td>20.1</td>\n",
       "      <td>NaN</td>\n",
       "      <td>2019</td>\n",
       "      <td>DTL</td>\n",
       "      <td>Đại Học Thăng Long</td>\n",
       "      <td>https://diemthi.tuyensinh247.com/diem-chuan/da...</td>\n",
       "    </tr>\n",
       "    <tr>\n",
       "      <th>14772</th>\n",
       "      <td>7220209</td>\n",
       "      <td>Ngôn ngữ Nhật</td>\n",
       "      <td>D06</td>\n",
       "      <td>20.1</td>\n",
       "      <td>NaN</td>\n",
       "      <td>2019</td>\n",
       "      <td>DTL</td>\n",
       "      <td>Đại Học Thăng Long</td>\n",
       "      <td>https://diemthi.tuyensinh247.com/diem-chuan/da...</td>\n",
       "    </tr>\n",
       "  </tbody>\n",
       "</table>\n",
       "</div>"
      ],
      "text/plain": [
       "       manganh             tennganh tohop diemchuan ghichu   nam matruong  \\\n",
       "14768  7220201         Ngôn ngữ Anh   D01      19.8    NaN  2019      DTL   \n",
       "14769  7220204  Ngôn ngữ Trung Quốc   D01      21.6    NaN  2019      DTL   \n",
       "14770  7220204  Ngôn ngữ Trung Quốc   D04      21.6    NaN  2019      DTL   \n",
       "14771  7220209        Ngôn ngữ Nhật   D01      20.1    NaN  2019      DTL   \n",
       "14772  7220209        Ngôn ngữ Nhật   D06      20.1    NaN  2019      DTL   \n",
       "\n",
       "                tentruong                                                url  \n",
       "14768  Đại Học Thăng Long  https://diemthi.tuyensinh247.com/diem-chuan/da...  \n",
       "14769  Đại Học Thăng Long  https://diemthi.tuyensinh247.com/diem-chuan/da...  \n",
       "14770  Đại Học Thăng Long  https://diemthi.tuyensinh247.com/diem-chuan/da...  \n",
       "14771  Đại Học Thăng Long  https://diemthi.tuyensinh247.com/diem-chuan/da...  \n",
       "14772  Đại Học Thăng Long  https://diemthi.tuyensinh247.com/diem-chuan/da...  "
      ]
     },
     "execution_count": 6,
     "metadata": {},
     "output_type": "execute_result"
    }
   ],
   "source": [
    "a = diemchuan[diemchuan['matruong']=='DTL']\n",
    "a.head(5)"
   ]
  },
  {
   "cell_type": "code",
   "execution_count": 7,
   "id": "c515b058",
   "metadata": {
    "scrolled": true
   },
   "outputs": [
    {
     "data": {
      "text/html": [
       "<div>\n",
       "<style scoped>\n",
       "    .dataframe tbody tr th:only-of-type {\n",
       "        vertical-align: middle;\n",
       "    }\n",
       "\n",
       "    .dataframe tbody tr th {\n",
       "        vertical-align: top;\n",
       "    }\n",
       "\n",
       "    .dataframe thead th {\n",
       "        text-align: right;\n",
       "    }\n",
       "</style>\n",
       "<table border=\"1\" class=\"dataframe\">\n",
       "  <thead>\n",
       "    <tr style=\"text-align: right;\">\n",
       "      <th></th>\n",
       "      <th>manganh</th>\n",
       "      <th>tennganh</th>\n",
       "      <th>tohop</th>\n",
       "      <th>diemchuan</th>\n",
       "      <th>ghichu</th>\n",
       "      <th>nam</th>\n",
       "      <th>matruong</th>\n",
       "      <th>tentruong</th>\n",
       "      <th>url</th>\n",
       "    </tr>\n",
       "  </thead>\n",
       "  <tbody>\n",
       "    <tr>\n",
       "      <th>14796</th>\n",
       "      <td>7480101</td>\n",
       "      <td>Khoa học máy tính</td>\n",
       "      <td>A00</td>\n",
       "      <td>15.5</td>\n",
       "      <td>NaN</td>\n",
       "      <td>2019</td>\n",
       "      <td>DTL</td>\n",
       "      <td>Đại Học Thăng Long</td>\n",
       "      <td>https://diemthi.tuyensinh247.com/diem-chuan/da...</td>\n",
       "    </tr>\n",
       "    <tr>\n",
       "      <th>14797</th>\n",
       "      <td>7480101</td>\n",
       "      <td>Khoa học máy tính</td>\n",
       "      <td>A01</td>\n",
       "      <td>15.5</td>\n",
       "      <td>NaN</td>\n",
       "      <td>2019</td>\n",
       "      <td>DTL</td>\n",
       "      <td>Đại Học Thăng Long</td>\n",
       "      <td>https://diemthi.tuyensinh247.com/diem-chuan/da...</td>\n",
       "    </tr>\n",
       "    <tr>\n",
       "      <th>14821</th>\n",
       "      <td>7480101</td>\n",
       "      <td>Khoa học máy tính</td>\n",
       "      <td>A00; A01</td>\n",
       "      <td>15</td>\n",
       "      <td>(Toán là môn chính, hệ số 2)</td>\n",
       "      <td>2018</td>\n",
       "      <td>DTL</td>\n",
       "      <td>Đại Học Thăng Long</td>\n",
       "      <td>https://diemthi.tuyensinh247.com/diem-chuan/da...</td>\n",
       "    </tr>\n",
       "    <tr>\n",
       "      <th>14857</th>\n",
       "      <td>7480101</td>\n",
       "      <td>Khoa học máy tính</td>\n",
       "      <td>A00; A01</td>\n",
       "      <td>15.5</td>\n",
       "      <td>Tiêu chí phụ: Điểm Toán; Thang điểm 30.</td>\n",
       "      <td>2017</td>\n",
       "      <td>DTL</td>\n",
       "      <td>Đại Học Thăng Long</td>\n",
       "      <td>https://diemthi.tuyensinh247.com/diem-chuan/da...</td>\n",
       "    </tr>\n",
       "    <tr>\n",
       "      <th>14870</th>\n",
       "      <td>7480101</td>\n",
       "      <td>Khoa học máy tính</td>\n",
       "      <td>A; A1</td>\n",
       "      <td>20.17</td>\n",
       "      <td>NaN</td>\n",
       "      <td>2015</td>\n",
       "      <td>DTL</td>\n",
       "      <td>Đại Học Thăng Long</td>\n",
       "      <td>https://diemthi.tuyensinh247.com/diem-chuan/da...</td>\n",
       "    </tr>\n",
       "  </tbody>\n",
       "</table>\n",
       "</div>"
      ],
      "text/plain": [
       "       manganh           tennganh     tohop diemchuan  \\\n",
       "14796  7480101  Khoa học máy tính       A00      15.5   \n",
       "14797  7480101  Khoa học máy tính       A01      15.5   \n",
       "14821  7480101  Khoa học máy tính  A00; A01        15   \n",
       "14857  7480101  Khoa học máy tính  A00; A01      15.5   \n",
       "14870  7480101  Khoa học máy tính     A; A1     20.17   \n",
       "\n",
       "                                        ghichu   nam matruong  \\\n",
       "14796                                      NaN  2019      DTL   \n",
       "14797                                      NaN  2019      DTL   \n",
       "14821             (Toán là môn chính, hệ số 2)  2018      DTL   \n",
       "14857  Tiêu chí phụ: Điểm Toán; Thang điểm 30.  2017      DTL   \n",
       "14870                                      NaN  2015      DTL   \n",
       "\n",
       "                tentruong                                                url  \n",
       "14796  Đại Học Thăng Long  https://diemthi.tuyensinh247.com/diem-chuan/da...  \n",
       "14797  Đại Học Thăng Long  https://diemthi.tuyensinh247.com/diem-chuan/da...  \n",
       "14821  Đại Học Thăng Long  https://diemthi.tuyensinh247.com/diem-chuan/da...  \n",
       "14857  Đại Học Thăng Long  https://diemthi.tuyensinh247.com/diem-chuan/da...  \n",
       "14870  Đại Học Thăng Long  https://diemthi.tuyensinh247.com/diem-chuan/da...  "
      ]
     },
     "execution_count": 7,
     "metadata": {},
     "output_type": "execute_result"
    }
   ],
   "source": [
    "b = a[a['manganh']=='7480101']\n",
    "b.head(5)"
   ]
  },
  {
   "cell_type": "code",
   "execution_count": 8,
   "id": "61965865",
   "metadata": {},
   "outputs": [
    {
     "name": "stdout",
     "output_type": "stream",
     "text": [
      "<class 'pandas.core.frame.DataFrame'>\n",
      "Int64Index: 14 entries, 14796 to 51426\n",
      "Data columns (total 9 columns):\n",
      " #   Column     Non-Null Count  Dtype \n",
      "---  ------     --------------  ----- \n",
      " 0   manganh    14 non-null     object\n",
      " 1   tennganh   14 non-null     object\n",
      " 2   tohop      14 non-null     object\n",
      " 3   diemchuan  14 non-null     object\n",
      " 4   ghichu     3 non-null      object\n",
      " 5   nam        14 non-null     int64 \n",
      " 6   matruong   14 non-null     object\n",
      " 7   tentruong  14 non-null     object\n",
      " 8   url        6 non-null      object\n",
      "dtypes: int64(1), object(8)\n",
      "memory usage: 1.1+ KB\n"
     ]
    }
   ],
   "source": [
    "b.info()"
   ]
  },
  {
   "cell_type": "code",
   "execution_count": 9,
   "id": "1d6b1fd4",
   "metadata": {},
   "outputs": [],
   "source": [
    "x = np.array(b.nam)\n",
    "y = np.array(b.diemchuan)\n",
    "y = y.astype(float)\n",
    "x = x.reshape(-1,1)\n",
    "y = y.reshape(-1,1)"
   ]
  },
  {
   "cell_type": "code",
   "execution_count": 10,
   "id": "40fbeb50",
   "metadata": {},
   "outputs": [
    {
     "data": {
      "text/plain": [
       "array([[2019],\n",
       "       [2019],\n",
       "       [2018],\n",
       "       [2017],\n",
       "       [2015],\n",
       "       [2014],\n",
       "       [2014],\n",
       "       [2015],\n",
       "       [2017],\n",
       "       [2018],\n",
       "       [2019],\n",
       "       [2020],\n",
       "       [2021],\n",
       "       [2022]], dtype=int64)"
      ]
     },
     "execution_count": 10,
     "metadata": {},
     "output_type": "execute_result"
    }
   ],
   "source": [
    "x"
   ]
  },
  {
   "cell_type": "code",
   "execution_count": 11,
   "id": "805ded6d",
   "metadata": {},
   "outputs": [
    {
     "data": {
      "text/plain": [
       "array([[15.5 ],\n",
       "       [15.5 ],\n",
       "       [15.  ],\n",
       "       [15.5 ],\n",
       "       [20.17],\n",
       "       [18.5 ],\n",
       "       [18.5 ],\n",
       "       [20.17],\n",
       "       [15.5 ],\n",
       "       [15.  ],\n",
       "       [15.5 ],\n",
       "       [20.  ],\n",
       "       [24.13],\n",
       "       [24.1 ]])"
      ]
     },
     "execution_count": 11,
     "metadata": {},
     "output_type": "execute_result"
    }
   ],
   "source": [
    "y"
   ]
  },
  {
   "cell_type": "markdown",
   "id": "600eefc6",
   "metadata": {},
   "source": [
    "sau khi lọc dữ liệu thu được dữ liệu như trên:\n",
    " - x là thuộc tính\n",
    " - y là lớp "
   ]
  },
  {
   "cell_type": "markdown",
   "id": "94dc1761",
   "metadata": {},
   "source": [
    "# Tạo mô hình dự đoán điểm chuẩn "
   ]
  },
  {
   "cell_type": "code",
   "execution_count": 12,
   "id": "fcf25807",
   "metadata": {},
   "outputs": [
    {
     "data": {
      "text/plain": [
       "[<matplotlib.lines.Line2D at 0x1c098605fd0>]"
      ]
     },
     "execution_count": 12,
     "metadata": {},
     "output_type": "execute_result"
    },
    {
     "data": {
      "image/png": "[encoded data removed]",
      "text/plain": [
       "<Figure size 640x480 with 1 Axes>"
      ]
     },
     "metadata": {},
     "output_type": "display_data"
    }
   ],
   "source": [
    "plt.plot(x,y,'o')"
   ]
  },
  {
   "cell_type": "markdown",
   "id": "97457d56",
   "metadata": {},
   "source": [
    "## Phương trình của mô hình: $y = a*x^2 + b*x +c $"
   ]
  },
  {
   "cell_type": "code",
   "execution_count": 13,
   "id": "c70517f0",
   "metadata": {},
   "outputs": [],
   "source": [
    "one = np.ones((len(x),1),dtype = int)"
   ]
  },
  {
   "cell_type": "code",
   "execution_count": 14,
   "id": "c17fe332",
   "metadata": {},
   "outputs": [],
   "source": [
    "A = np.concatenate((x,one),axis = 1)"
   ]
  },
  {
   "cell_type": "code",
   "execution_count": 15,
   "id": "219d2b0e",
   "metadata": {},
   "outputs": [],
   "source": [
    "abc = np.linalg.inv(A.transpose().dot(A)).dot(A.transpose()).dot(y)"
   ]
  },
  {
   "cell_type": "markdown",
   "id": "7ea5142c",
   "metadata": {},
   "source": [
    "abc = $(A^T*A)^-1*A^T*y$"
   ]
  },
  {
   "cell_type": "code",
   "execution_count": 16,
   "id": "10b699c7",
   "metadata": {},
   "outputs": [
    {
     "data": {
      "text/plain": [
       "array([[ 3.32810345e-01],\n",
       "       [-6.53439759e+02]])"
      ]
     },
     "execution_count": 16,
     "metadata": {},
     "output_type": "execute_result"
    }
   ],
   "source": [
    "abc"
   ]
  },
  {
   "cell_type": "code",
   "execution_count": 17,
   "id": "221305d2",
   "metadata": {},
   "outputs": [],
   "source": [
    "x0 = np.array([2010,2026])\n",
    "y0 = abc[0][0]*x0 + abc[1][0]"
   ]
  },
  {
   "cell_type": "code",
   "execution_count": 18,
   "id": "e2c9f92b",
   "metadata": {},
   "outputs": [
    {
     "data": {
      "image/png": "[encoded data removed]",
      "text/plain": [
       "<Figure size 640x480 with 1 Axes>"
      ]
     },
     "metadata": {},
     "output_type": "display_data"
    }
   ],
   "source": [
    "plt.plot(x,y,'o')\n",
    "plt.plot(x0,y0)\n",
    "plt.show() "
   ]
  },
  {
   "cell_type": "code",
   "execution_count": 19,
   "id": "a6caf483",
   "metadata": {},
   "outputs": [
    {
     "name": "stdout",
     "output_type": "stream",
     "text": [
      "2023\n",
      "diem du doan:  19.84\n"
     ]
    }
   ],
   "source": [
    "nam = int(input())\n",
    "y_pred =  abc[0][0]*nam + abc[1][0]\n",
    "print(\"diem du doan: \",round(y_pred,2))"
   ]
  },
  {
   "cell_type": "markdown",
   "id": "026dc1ea",
   "metadata": {},
   "source": [
    "## Phương trình của mô hình: $y = a*x + b$"
   ]
  },
  {
   "cell_type": "code",
   "execution_count": 20,
   "id": "d9e49df7",
   "metadata": {},
   "outputs": [],
   "source": [
    "x_square = x**2"
   ]
  },
  {
   "cell_type": "code",
   "execution_count": 21,
   "id": "de5baa18",
   "metadata": {},
   "outputs": [],
   "source": [
    "B = np.concatenate((x,one),axis = 1)"
   ]
  },
  {
   "cell_type": "code",
   "execution_count": 22,
   "id": "9486fe61",
   "metadata": {},
   "outputs": [],
   "source": [
    "B = np.concatenate((x_square,B),axis = 1)"
   ]
  },
  {
   "cell_type": "code",
   "execution_count": 23,
   "id": "44faaea9",
   "metadata": {},
   "outputs": [],
   "source": [
    "ab = np.linalg.inv(B.transpose().dot(B)).dot(B.transpose()).dot(y)"
   ]
  },
  {
   "cell_type": "markdown",
   "id": "58d2241b",
   "metadata": {},
   "source": [
    "ab = $(B^T*B)^-1*B^T*y$"
   ]
  },
  {
   "cell_type": "code",
   "execution_count": 24,
   "id": "208fd8d9",
   "metadata": {},
   "outputs": [],
   "source": [
    "x0 = np.linspace(2010,2026,1000)\n",
    "y0 = ab[0][0]*x0*x0 + ab[1][0]*x0 +ab[2][0]"
   ]
  },
  {
   "cell_type": "code",
   "execution_count": 25,
   "id": "926b13c2",
   "metadata": {},
   "outputs": [
    {
     "data": {
      "image/png": "[encoded data removed]",
      "text/plain": [
       "<Figure size 640x480 with 1 Axes>"
      ]
     },
     "metadata": {},
     "output_type": "display_data"
    }
   ],
   "source": [
    "plt.plot(x,y,'o')\n",
    "plt.plot(x0,y0)\n",
    "plt.show() "
   ]
  },
  {
   "cell_type": "code",
   "execution_count": 26,
   "id": "8b10cb57",
   "metadata": {},
   "outputs": [
    {
     "name": "stdout",
     "output_type": "stream",
     "text": [
      "2023\n",
      "diem du doan:  29.9\n"
     ]
    }
   ],
   "source": [
    "nam = int(input())\n",
    "y_pred =  ab[0][0]*nam*nam + ab[1][0]*nam +ab[2][0]\n",
    "print(\"diem du doan: \",round(y_pred,2))"
   ]
  },
  {
   "cell_type": "code",
   "execution_count": null,
   "id": "c410dd7b",
   "metadata": {},
   "outputs": [],
   "source": []
  }
 ],
 "metadata": {
  "kernelspec": {
   "display_name": "Python 3 (ipykernel)",
   "language": "python",
   "name": "python3"
  },
  "language_info": {
   "codemirror_mode": {
    "name": "ipython",
    "version": 3
   },
   "file_extension": ".py",
   "mimetype": "text/x-python",
   "name": "python",
   "nbconvert_exporter": "python",
   "pygments_lexer": "ipython3",
   "version": "3.9.13"
  }
 },
 "nbformat": 4,
 "nbformat_minor": 5
}
